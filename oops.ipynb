{
 "cells": [
  {
   "cell_type": "code",
   "execution_count": 1,
   "id": "258fa719",
   "metadata": {},
   "outputs": [],
   "source": [
    "class hello:\n",
    "    name1=\"Aswathi\"\n",
    "    def __init__(self,name):\n",
    "        self.name=name"
   ]
  },
  {
   "cell_type": "code",
   "execution_count": 2,
   "id": "85af6aa6",
   "metadata": {},
   "outputs": [
    {
     "name": "stdout",
     "output_type": "stream",
     "text": [
      "Ammu\n",
      "Aswathi\n",
      "Aswathi\n"
     ]
    }
   ],
   "source": [
    "h1=hello(\"Ammu\")\n",
    "print(h1.name)     # object variable\n",
    "print(h1.name1)    # class variable\n",
    "print(hello.name1)   # class variable calling using class name"
   ]
  },
  {
   "cell_type": "code",
   "execution_count": 3,
   "id": "99dc4fb4",
   "metadata": {},
   "outputs": [
    {
     "name": "stdout",
     "output_type": "stream",
     "text": [
      "Achu\n",
      "Aswathi\n"
     ]
    }
   ],
   "source": [
    "h1.name1=\"Achu\"\n",
    "print(h1.name1)\n",
    "print(hello.name1)"
   ]
  },
  {
   "cell_type": "code",
   "execution_count": 5,
   "id": "cdf98df2",
   "metadata": {},
   "outputs": [
    {
     "data": {
      "text/plain": [
       "'Aswathi'"
      ]
     },
     "execution_count": 5,
     "metadata": {},
     "output_type": "execute_result"
    }
   ],
   "source": [
    "h2=hello(\"hi\")\n",
    "h2.name1"
   ]
  },
  {
   "cell_type": "code",
   "execution_count": 4,
   "id": "665a1375",
   "metadata": {},
   "outputs": [],
   "source": [
    "class Area:\n",
    "    def __init__(self,length,breadth):\n",
    "        self.leng=length\n",
    "        self.br=breadth\n",
    "    \n",
    "    def area(self):\n",
    "        return self.leng * self.br\n"
   ]
  },
  {
   "cell_type": "code",
   "execution_count": 5,
   "id": "2b5d203d",
   "metadata": {},
   "outputs": [
    {
     "data": {
      "text/plain": [
       "50"
      ]
     },
     "execution_count": 5,
     "metadata": {},
     "output_type": "execute_result"
    }
   ],
   "source": [
    "a=Area(10,5)\n",
    "a.area()"
   ]
  },
  {
   "cell_type": "markdown",
   "id": "9f9ae307",
   "metadata": {},
   "source": [
    "CLASS VARIABLE "
   ]
  },
  {
   "cell_type": "markdown",
   "id": "1917eceb",
   "metadata": {},
   "source": [
    "* Shared across all objects of the class.\n",
    "\n",
    "* Belongs to the class, not to a specific object.\n",
    "\n",
    "* Change via class name, affects all objects."
   ]
  },
  {
   "cell_type": "code",
   "execution_count": 6,
   "id": "0b75f5bf",
   "metadata": {},
   "outputs": [
    {
     "name": "stdout",
     "output_type": "stream",
     "text": [
      "Sweety\n",
      "animal\n",
      "animal\n"
     ]
    }
   ],
   "source": [
    "class animal:\n",
    "    cls_var=\"animal\"      # CLASS VARIABLE\n",
    "    def __init__(self,name):\n",
    "        self.name=name    # OBJECT VARIABLE\n",
    "\n",
    "dog=animal(\"Sweety\")\n",
    "print(dog.name)        #ACCESSING OBJECT VARIABLE USING OBJECT\n",
    "print(dog.cls_var)      # ACCESSING CLASS VARIABLE USING OBJECT\n",
    "\n",
    "print(animal.cls_var)   # ACCESSING CLASS VARIABLE USING CLASS NAME"
   ]
  },
  {
   "cell_type": "markdown",
   "id": "2fe1b36e",
   "metadata": {},
   "source": [
    "OBJECT VARIABLE (INSTANCE VARIABLE)"
   ]
  },
  {
   "cell_type": "markdown",
   "id": "69a1bcb2",
   "metadata": {},
   "source": [
    "* Unique to each object.\n",
    "\n",
    "* Belongs to the instance.\n",
    "\n",
    "* Change via object, affects only that object."
   ]
  },
  {
   "cell_type": "code",
   "execution_count": null,
   "id": "ec5ec157",
   "metadata": {},
   "outputs": [
    {
     "name": "stdout",
     "output_type": "stream",
     "text": [
      "LLAI\n",
      "LLAI\n",
      "28\n",
      "21\n",
      "AI SCHOOL\n",
      "AI SCHOOL\n"
     ]
    }
   ],
   "source": [
    "class Student:\n",
    "    school_name = \"LLAI\"\n",
    "\n",
    "    def __init__(self, name, age):\n",
    "        self.name = name\n",
    "        self.age = age\n",
    "\n",
    "# objects\n",
    "s1 = Student(\"Achu\", 27)\n",
    "s2 = Student(\"Ammu\", 21)\n",
    "\n",
    "print(s1.school_name)   \n",
    "print(s2.school_name)  \n",
    "\n",
    "# change object variable\n",
    "s1.age = 28\n",
    "print(s1.age)  \n",
    "print(s2.age)   \n",
    "\n",
    "# change class variable\n",
    "Student.school_name = \"AI SCHOOL\"\n",
    "print(s1.school_name)   \n",
    "print(s2.school_name)   \n"
   ]
  },
  {
   "cell_type": "markdown",
   "id": "c68dd62f",
   "metadata": {},
   "source": [
    "OBJECT METHODS"
   ]
  },
  {
   "cell_type": "markdown",
   "id": "695aea0a",
   "metadata": {},
   "source": [
    "* Defined normally inside class (with self parameter).\n",
    "\n",
    "* Can access both object variables and class variables.\n",
    "\n",
    "* Called using an object."
   ]
  },
  {
   "cell_type": "code",
   "execution_count": null,
   "id": "0c963ef2",
   "metadata": {},
   "outputs": [
    {
     "name": "stdout",
     "output_type": "stream",
     "text": [
      "Name: Achu, Age: 23, School: LEARN LOGIC AI\n"
     ]
    }
   ],
   "source": [
    "class Student:\n",
    "    school_name = \"LEARN LOGIC AI\"  \n",
    "\n",
    "    def __init__(self, name, age):\n",
    "        self.name = name    \n",
    "        self.age = age\n",
    "\n",
    "    def display(self):  \n",
    "        print(f\"Name: {self.name}, Age: {self.age}, School: {Student.school_name}\")\n",
    "\n",
    "s1 = Student(\"Achu\", 23)\n",
    "s1.display()\n"
   ]
  },
  {
   "cell_type": "markdown",
   "id": "52524138",
   "metadata": {},
   "source": [
    "CLASS METHODS"
   ]
  },
  {
   "cell_type": "markdown",
   "id": "97ea2199",
   "metadata": {},
   "source": [
    "* Declared with @classmethod decorator.\n",
    "\n",
    "* First parameter is cls (represents the class, like self represents object).\n",
    "\n",
    "* Can only access class variables, not instance variables (unless an object is passed).\n",
    "\n",
    "* Called using either class name or object."
   ]
  },
  {
   "cell_type": "code",
   "execution_count": null,
   "id": "0cfa3ecd",
   "metadata": {},
   "outputs": [
    {
     "name": "stdout",
     "output_type": "stream",
     "text": [
      "National School\n",
      "Ammu\n"
     ]
    }
   ],
   "source": [
    "class Student:\n",
    "    school_name = \"LLAI\" \n",
    "\n",
    "    def __init__(self, name, age):\n",
    "        self.name = name\n",
    "        self.age = age\n",
    "\n",
    "    @classmethod\n",
    "    def change_school(cls, new_name,name1):  \n",
    "        cls.school_name = new_name\n",
    "        cls.name1=name1\n",
    "\n",
    "\n",
    "Student.change_school(\"National School\",\"Ammu\")\n",
    "\n",
    "s1 = Student(\"Achu\", 23)\n",
    "print(s1.school_name)   \n",
    "print(Student.name1)\n",
    "\n"
   ]
  },
  {
   "cell_type": "code",
   "execution_count": 15,
   "id": "8b05e3fd",
   "metadata": {},
   "outputs": [
    {
     "name": "stdout",
     "output_type": "stream",
     "text": [
      "noschool\n"
     ]
    }
   ],
   "source": [
    "s1.change_school(\"noschool\")\n",
    "print(Student.school_name)"
   ]
  },
  {
   "cell_type": "markdown",
   "id": "4e5d0fd3",
   "metadata": {},
   "source": [
    "STATIC METHOD"
   ]
  },
  {
   "cell_type": "markdown",
   "id": "3a30f1e2",
   "metadata": {},
   "source": [
    "* Declared with @staticmethod decorator.\n",
    "\n",
    "* Don’t take self or cls.\n",
    "\n",
    "* Behave like normal functions, but kept inside a class for organization."
   ]
  },
  {
   "cell_type": "code",
   "execution_count": null,
   "id": "dc49fd07",
   "metadata": {},
   "outputs": [
    {
     "name": "stdout",
     "output_type": "stream",
     "text": [
      "15\n"
     ]
    }
   ],
   "source": [
    "class MathUtils:\n",
    "    @staticmethod\n",
    "    def add(a, b):\n",
    "        return a + b\n",
    "\n",
    "print(MathUtils.add(10, 5))  \n",
    " \n",
    "  # ENCAPSULATION\n",
    "  # POLYMORPHISM "
   ]
  },
  {
   "cell_type": "markdown",
   "id": "9732c4b3",
   "metadata": {},
   "source": [
    "INHERITANCE"
   ]
  },
  {
   "cell_type": "markdown",
   "id": "7e55728c",
   "metadata": {},
   "source": [
    "* Inheritance allows a class (child/derived class) to reuse the properties and methods of another class (parent/base class).\n",
    "\n",
    "* It helps in code reusability\n",
    "\n",
    "* makes programs easier to maintain."
   ]
  },
  {
   "cell_type": "markdown",
   "id": "adbdd134",
   "metadata": {},
   "source": [
    "1. SINGLE INHERITANCE"
   ]
  },
  {
   "cell_type": "markdown",
   "id": "22763803",
   "metadata": {},
   "source": [
    "* One child class inherits from one parent class."
   ]
  },
  {
   "cell_type": "code",
   "execution_count": null,
   "id": "c769af99",
   "metadata": {},
   "outputs": [
    {
     "name": "stdout",
     "output_type": "stream",
     "text": [
      "Name: Achu, Age: 23\n",
      "Roll No: 101\n"
     ]
    }
   ],
   "source": [
    "class Person:   # Parent class\n",
    "    def __init__(self, name, age):\n",
    "        self.name = name\n",
    "        self.age = age\n",
    "    \n",
    "    def display(self):\n",
    "        print(f\"Name: {self.name}, Age: {self.age}\")\n",
    "\n",
    "class Student(Person):   # Child class\n",
    "    def __init__(self, name, age, roll_no):\n",
    "        super().__init__(name, age)  # call parent constructor\n",
    "        self.roll_no = roll_no\n",
    "    \n",
    "    def show(self):\n",
    "        print(f\"Roll No: {self.roll_no}\")\n",
    "\n",
    "s1 = Student(\"Achu\", 23, 101)\n",
    "s1.display()   \n",
    "s1.show()      \n"
   ]
  },
  {
   "cell_type": "code",
   "execution_count": 31,
   "id": "7fa7f18b",
   "metadata": {},
   "outputs": [
    {
     "name": "stdout",
     "output_type": "stream",
     "text": [
      "Name: ammu, Age: 28\n"
     ]
    }
   ],
   "source": [
    "s2=Person(\"ammu\",28)\n",
    "s2.display()\n"
   ]
  },
  {
   "cell_type": "code",
   "execution_count": null,
   "id": "35242a95",
   "metadata": {},
   "outputs": [],
   "source": []
  },
  {
   "cell_type": "markdown",
   "id": "8ec97a99",
   "metadata": {},
   "source": [
    "2. MULTILEVEL INHERITANCE"
   ]
  },
  {
   "cell_type": "markdown",
   "id": "c2129684",
   "metadata": {},
   "source": [
    "* A child inherits from a parent, and another child inherits from that child."
   ]
  },
  {
   "cell_type": "code",
   "execution_count": null,
   "id": "a4320ee2",
   "metadata": {},
   "outputs": [
    {
     "name": "stdout",
     "output_type": "stream",
     "text": [
      "Animals make sound\n",
      "Dog barks\n",
      "Puppy plays\n"
     ]
    }
   ],
   "source": [
    "class Animal:\n",
    "    def speak(self):\n",
    "        print(\"Animals make sound\")\n",
    "\n",
    "class Dog(Animal):\n",
    "    def bark(self):\n",
    "        print(\"Dog barks\")\n",
    "\n",
    "class Puppy(Dog):\n",
    "    def play(self):\n",
    "        print(\"Puppy plays\")\n",
    "\n",
    "p = Puppy()\n",
    "p.speak()  \n",
    "p.bark()  \n",
    "p.play()   \n"
   ]
  },
  {
   "cell_type": "markdown",
   "id": "753f1bf8",
   "metadata": {},
   "source": [
    "3. MULTIPLE INHERITANCE"
   ]
  },
  {
   "cell_type": "markdown",
   "id": "b7c9914b",
   "metadata": {},
   "source": [
    "* A child inherits from more than one parent class."
   ]
  },
  {
   "cell_type": "code",
   "execution_count": 36,
   "id": "dea4fe32",
   "metadata": {},
   "outputs": [
    {
     "name": "stdout",
     "output_type": "stream",
     "text": [
      "Father: Driving\n",
      "Mother: Cooking\n",
      "Child: Painting\n"
     ]
    }
   ],
   "source": [
    "class Father:\n",
    "    def f_skill(self):\n",
    "        print(\"Father: Driving\")\n",
    "\n",
    "class Mother:\n",
    "    def m_skill(self):\n",
    "        print(\"Mother: Cooking\")\n",
    "\n",
    "class Child(Father, Mother):\n",
    "    def own_skill(self):\n",
    "        print(\"Child: Painting\")\n",
    "\n",
    "c = Child()\n",
    "c.f_skill()   \n",
    "c.m_skill() \n",
    "c.own_skill()\n"
   ]
  },
  {
   "cell_type": "markdown",
   "id": "efb40a20",
   "metadata": {},
   "source": [
    "4. HIERARCHIAL INHERITANCE"
   ]
  },
  {
   "cell_type": "markdown",
   "id": "7cacf63b",
   "metadata": {},
   "source": [
    "* Multiple child classes inherit from the same parent."
   ]
  },
  {
   "cell_type": "code",
   "execution_count": 38,
   "id": "0b023e6a",
   "metadata": {},
   "outputs": [
    {
     "name": "stdout",
     "output_type": "stream",
     "text": [
      "This is a shape\n",
      "Drawing a circle\n",
      "This is a shape\n",
      "Drawing a rectangle\n"
     ]
    }
   ],
   "source": [
    "class Shape:\n",
    "    def info(self):\n",
    "        print(\"This is a shape\")\n",
    "\n",
    "class Circle(Shape):\n",
    "    def draw(self):\n",
    "        print(\"Drawing a circle\")\n",
    "\n",
    "class Rectangle(Shape):\n",
    "    def draw(self):\n",
    "        print(\"Drawing a rectangle\")\n",
    "\n",
    "c = Circle()\n",
    "r = Rectangle()\n",
    "\n",
    "c.info()\n",
    "c.draw()\n",
    "\n",
    "r.info()\n",
    "r.draw()\n"
   ]
  },
  {
   "cell_type": "code",
   "execution_count": null,
   "id": "2466e3c8",
   "metadata": {},
   "outputs": [],
   "source": []
  },
  {
   "cell_type": "code",
   "execution_count": null,
   "id": "5570f086",
   "metadata": {},
   "outputs": [],
   "source": []
  },
  {
   "cell_type": "markdown",
   "id": "4e964c9a",
   "metadata": {},
   "source": [
    "METHOD OVERRIDING IN INHERITANCE"
   ]
  },
  {
   "cell_type": "markdown",
   "id": "e8efc5ab",
   "metadata": {},
   "source": [
    "* If child class defines a method with the same name as parent, the child’s method overrides parent’s method."
   ]
  },
  {
   "cell_type": "code",
   "execution_count": 2,
   "id": "03ca06e2",
   "metadata": {},
   "outputs": [
    {
     "name": "stdout",
     "output_type": "stream",
     "text": [
      "Dog barks\n"
     ]
    }
   ],
   "source": [
    "class Animal:\n",
    "    def sound(self):\n",
    "        print(\"Animal makes sound\")\n",
    "\n",
    "class Dog(Animal):\n",
    "    def sound(self): # overriding\n",
    "        print(\"Dog barks\")\n",
    "class cat(Dog):\n",
    "    def sound(self):\n",
    "        print(\"Cat meows\")\n",
    "\n",
    "d = Dog()\n",
    "d.sound()   \n"
   ]
  },
  {
   "cell_type": "markdown",
   "id": "85b49b0b",
   "metadata": {},
   "source": [
    "OVER LOADING - SAME NAME , DIFFERENT PARAMETERS , SAME CLASS\n",
    "\n",
    "OVER RIDING- SAME NAME, SAME PARAMETERS, DIFFERENT CLASS"
   ]
  },
  {
   "cell_type": "code",
   "execution_count": 7,
   "id": "a124c7c7",
   "metadata": {},
   "outputs": [
    {
     "name": "stdout",
     "output_type": "stream",
     "text": [
      "Animal makes sound\n",
      "Dog barks\n",
      "Cat meows\n"
     ]
    }
   ],
   "source": [
    "a=cat()\n",
    "a.sound()"
   ]
  },
  {
   "cell_type": "code",
   "execution_count": 41,
   "id": "91ee8e5d",
   "metadata": {},
   "outputs": [
    {
     "name": "stdout",
     "output_type": "stream",
     "text": [
      "Animal makes sound\n",
      "Cat meows\n"
     ]
    }
   ],
   "source": [
    "class Animal:\n",
    "    def sound(self):\n",
    "        print(\"Animal makes sound\")\n",
    "\n",
    "class Cat(Animal):\n",
    "    def sound(self):   # overriding\n",
    "        super().sound()   # call parent method\n",
    "        print(\"Cat meows\")\n",
    "\n",
    "c = Cat()\n",
    "c.sound()\n"
   ]
  },
  {
   "cell_type": "markdown",
   "id": "b04b4eea",
   "metadata": {},
   "source": [
    "COMPOSITION"
   ]
  },
  {
   "cell_type": "code",
   "execution_count": null,
   "id": "2d75d692",
   "metadata": {},
   "outputs": [
    {
     "data": {
      "text/plain": [
       "'Hello from A'"
      ]
     },
     "execution_count": 1,
     "metadata": {},
     "output_type": "execute_result"
    }
   ],
   "source": [
    "class A:\n",
    "    def say_hello(self):\n",
    "        return \"Hello from A\"\n",
    "\n",
    "class B:\n",
    "    def __init__(self, obj_a):\n",
    "        self.obj_a = obj_a   \n",
    "\n",
    "    def use_a(self):\n",
    "        return self.obj_a.say_hello()  \n",
    "# class C:\n",
    "#     def __init__(self,obj_b):\n",
    "#         self.obj_b=obj_b\n",
    "#     def use_b(self):\n",
    "#         return self.obj_b.use_a()\n",
    "\n",
    "cls1 = A()\n",
    "cls2 = B(cls1)\n",
    "cls2.use_a()\n",
    "# c = C(b)\n",
    "# print(b.use_a()) \n",
    "# c.use_b()\n"
   ]
  },
  {
   "cell_type": "code",
   "execution_count": null,
   "id": "36ce5b91",
   "metadata": {},
   "outputs": [
    {
     "name": "stdout",
     "output_type": "stream",
     "text": [
      "HELLO I AM FROM ANIMAL CLASS\n"
     ]
    }
   ],
   "source": [
    "class Animal:\n",
    "    def __init__(self):\n",
    "        pass\n",
    "    def display(self):\n",
    "        print(\"HELLO I AM FROM ANIMAL CLASS\")\n",
    "class human:\n",
    "    def __init__(self,a):\n",
    "        self.a=a \n",
    "    def dis(self):\n",
    "        return self.a.display()\n",
    "\n",
    "an=Animal()\n",
    "hu=human(an)\n",
    "hu.dis()"
   ]
  },
  {
   "cell_type": "markdown",
   "id": "b11ec6bc",
   "metadata": {},
   "source": [
    "REAL WORLD PROBLEM"
   ]
  },
  {
   "cell_type": "markdown",
   "id": "8f90a8da",
   "metadata": {},
   "source": [
    "* Ticket has-a Passenger and has-a Flight → (composition).\n",
    "\n",
    "* Passenger and Flight are independent entities."
   ]
  },
  {
   "cell_type": "code",
   "execution_count": 5,
   "id": "a838eaac",
   "metadata": {},
   "outputs": [
    {
     "name": "stdout",
     "output_type": "stream",
     "text": [
      "Available Flights:\n",
      "Flight AI101: Delhi → Mumbai, Seats Left: 3\n",
      "Flight AI202: Delhi → Bangalore, Seats Left: 2\n",
      "Flight AI303: Mumbai → Chennai, Seats Left: 1\n",
      "\n",
      "Ticket Booked:\n",
      "Ticket 1 | Aswathi | Flight AI101 | Status: Booked\n",
      "\n",
      "Cancelling Ticket...\n",
      "Ticket 1 | Aswathi | Flight AI101 | Status: Cancelled\n",
      "\n",
      "Updated Flights:\n",
      "Flight AI101: Delhi → Mumbai, Seats Left: 3\n",
      "Flight AI202: Delhi → Bangalore, Seats Left: 2\n",
      "Flight AI303: Mumbai → Chennai, Seats Left: 1\n"
     ]
    }
   ],
   "source": [
    "class Flight:\n",
    "    def __init__(self, flight_no, origin, destination, seats):\n",
    "        self.flight_no = flight_no\n",
    "        self.origin = origin\n",
    "        self.destination = destination\n",
    "        self.seats = seats\n",
    "        self.available_seats = seats\n",
    "\n",
    "    def book_seat(self):\n",
    "        if self.available_seats > 0:\n",
    "            self.available_seats -= 1\n",
    "            return True\n",
    "        return False\n",
    "\n",
    "    def cancel_seat(self):\n",
    "        if self.available_seats < self.seats:\n",
    "            self.available_seats += 1\n",
    "            return True\n",
    "        return False\n",
    "\n",
    "    def __str__(self):\n",
    "        return f\"Flight {self.flight_no}: {self.origin} → {self.destination}, Seats Left: {self.available_seats}\"\n",
    "\n",
    "\n",
    "class Passenger:\n",
    "    def __init__(self, name, passport_no):\n",
    "        self.name = name\n",
    "        self.passport_no = passport_no\n",
    "\n",
    "    def __str__(self):\n",
    "        return f\"Passenger: {self.name}, Passport: {self.passport_no}\"\n",
    "\n",
    "\n",
    "class Ticket:\n",
    "    ticket_counter = 1\n",
    "\n",
    "    def __init__(self, passenger, flight):\n",
    "        self.ticket_id = Ticket.ticket_counter\n",
    "        Ticket.ticket_counter += 1\n",
    "        self.passenger = passenger\n",
    "        self.flight = flight\n",
    "        self.status = \"Booked\"\n",
    "\n",
    "    def cancel_ticket(self):\n",
    "        if self.status == \"Booked\":\n",
    "            self.flight.cancel_seat()\n",
    "            self.status = \"Cancelled\"\n",
    "            return True\n",
    "        return False\n",
    "\n",
    "    def __str__(self):\n",
    "        return f\"Ticket {self.ticket_id} | {self.passenger.name} | Flight {self.flight.flight_no} | Status: {self.status}\"\n",
    "\n",
    "\n",
    "flights = [\n",
    "    Flight(\"AI101\", \"Delhi\", \"Mumbai\", 3),\n",
    "    Flight(\"AI202\", \"Delhi\", \"Bangalore\", 2),\n",
    "    Flight(\"AI303\", \"Mumbai\", \"Chennai\", 1),\n",
    "]\n",
    "\n",
    "print(\"Available Flights:\")\n",
    "for f in flights:\n",
    "    print(f)\n",
    "\n",
    "\n",
    "p1 = Passenger(\"Aswathi\", \"P12345\")\n",
    "ticket1 = None\n",
    "for f in flights:\n",
    "    if f.flight_no == \"AI101\" and f.book_seat():\n",
    "        ticket1 = Ticket(p1, f)\n",
    "        break\n",
    "\n",
    "print(\"\\nTicket Booked:\")\n",
    "print(ticket1)\n",
    "\n",
    "print(\"\\nCancelling Ticket...\")\n",
    "ticket1.cancel_ticket()\n",
    "print(ticket1)\n",
    "\n",
    "\n",
    "print(\"\\nUpdated Flights:\")\n",
    "for f in flights:\n",
    "    print(f)\n"
   ]
  },
  {
   "cell_type": "code",
   "execution_count": 6,
   "id": "7d305bde",
   "metadata": {},
   "outputs": [],
   "source": [
    "class Task:\n",
    "    def __init__(self, description):\n",
    "        self.description = description\n",
    "        self.status = \"Pending\"\n",
    "\n",
    "    def mark_done(self):\n",
    "        self.status = \"Done\"\n",
    "\n",
    "    def __str__(self):\n",
    "        return f\"{self.description} [{self.status}]\"\n",
    "\n",
    "\n",
    "class ToDoList:\n",
    "    def __init__(self):\n",
    "        self.tasks = []   \n",
    "\n",
    "    def add_task(self, task):\n",
    "        self.tasks.append(task)\n",
    "\n",
    "    def view_tasks(self):\n",
    "        if not self.tasks:\n",
    "            print(\"No tasks.\")\n",
    "        else:\n",
    "            for i, task in enumerate(self.tasks, 1):\n",
    "                print(f\"{i}. {task}\")\n"
   ]
  },
  {
   "cell_type": "code",
   "execution_count": 8,
   "id": "c7e5038e",
   "metadata": {},
   "outputs": [
    {
     "name": "stdout",
     "output_type": "stream",
     "text": [
      "To-Do List:\n",
      "1. Finish Python assignment [Pending]\n",
      "2. Read Machine Learning notes [Pending]\n",
      "3. Prepare OOP examples [Pending]\n",
      "\n",
      " Marking first task as done...\n",
      "\n",
      " Updated To-Do List:\n",
      "1. Finish Python assignment [Done]\n",
      "2. Read Machine Learning notes [Pending]\n",
      "3. Prepare OOP examples [Pending]\n"
     ]
    }
   ],
   "source": [
    "\n",
    "todo = ToDoList()\n",
    "\n",
    "t1 = Task(\"Finish Python assignment\")\n",
    "t2 = Task(\"Read Machine Learning notes\")\n",
    "t3 = Task(\"Prepare OOP examples\")\n",
    "\n",
    "todo.add_task(t1)\n",
    "todo.add_task(t2)\n",
    "todo.add_task(t3)\n",
    "\n",
    "\n",
    "print(\"To-Do List:\")\n",
    "todo.view_tasks()\n",
    "\n",
    "\n",
    "print(\"\\n Marking first task as done...\")\n",
    "t1.mark_done()\n",
    "\n",
    "\n",
    "print(\"\\n Updated To-Do List:\")\n",
    "todo.view_tasks()"
   ]
  },
  {
   "cell_type": "code",
   "execution_count": 9,
   "id": "83cc1827",
   "metadata": {},
   "outputs": [
    {
     "name": "stdout",
     "output_type": "stream",
     "text": [
      "Finish Python assignment [Done]\n"
     ]
    }
   ],
   "source": [
    "print(t1)"
   ]
  },
  {
   "cell_type": "code",
   "execution_count": null,
   "id": "25959fe0",
   "metadata": {},
   "outputs": [
    {
     "name": "stdout",
     "output_type": "stream",
     "text": [
      "📌 Tasks:\n",
      "1. <__main__.Task object at 0x00000262AE506510>\n",
      "2. <__main__.Task object at 0x00000262AE30FD90>\n"
     ]
    }
   ],
   "source": [
    "class Task:\n",
    "    def __init__(self, description):\n",
    "        self.description = description\n",
    "        self.status = \"Pending\"\n",
    "\n",
    "\n",
    "class ToDoList:\n",
    "    def __init__(self):\n",
    "        self.tasks = []\n",
    "\n",
    "    def add_task(self, task):\n",
    "        self.tasks.append(task)\n",
    "\n",
    "    def view_tasks(self):\n",
    "        if not self.tasks:\n",
    "            print(\"No tasks.\")\n",
    "        else:\n",
    "            for i, task in enumerate(self.tasks, 1):\n",
    "                print(f\"{i}. {task}\")  \n",
    "\n",
    "\n",
    "# Object creation\n",
    "todo = ToDoList()\n",
    "todo.add_task(Task(\"Finish Python assignment\"))\n",
    "todo.add_task(Task(\"Read ML notes\"))\n",
    "\n",
    "print(\"Tasks:\")\n",
    "todo.view_tasks()\n"
   ]
  },
  {
   "cell_type": "code",
   "execution_count": null,
   "id": "101f4e17",
   "metadata": {},
   "outputs": [
    {
     "name": "stdout",
     "output_type": "stream",
     "text": [
      "Hello Aswathi\n"
     ]
    }
   ],
   "source": [
    "class Animal:\n",
    "    def __init__(self,name):\n",
    "        self.name=name\n",
    "    \n",
    "    def __str__(self):\n",
    "        return f\"Hello {self.name}\"   \n",
    "\n",
    "a = Animal(\"Aswathi\")\n",
    "print(a)\n"
   ]
  },
  {
   "cell_type": "code",
   "execution_count": null,
   "id": "024edaa6",
   "metadata": {},
   "outputs": [],
   "source": []
  },
  {
   "cell_type": "code",
   "execution_count": 19,
   "id": "3ac84c3e",
   "metadata": {},
   "outputs": [],
   "source": [
    "class Bank:\n",
    "    def __init__(self,accnt_no,balance):\n",
    "        self.accnt_no=accnt_no\n",
    "        self.balance=balance\n",
    "    def __str__(self):\n",
    "        return f\"The account number is {self.accnt_no} and current balance is {self.balance}\"    \n",
    "b=Bank(123456789,1000)"
   ]
  },
  {
   "cell_type": "code",
   "execution_count": 20,
   "id": "d5935dbc",
   "metadata": {},
   "outputs": [
    {
     "name": "stdout",
     "output_type": "stream",
     "text": [
      "The account number is 123456789 and current balance is 1000\n"
     ]
    }
   ],
   "source": [
    "print(b)"
   ]
  },
  {
   "cell_type": "code",
   "execution_count": null,
   "id": "6cf760fc",
   "metadata": {},
   "outputs": [],
   "source": []
  }
 ],
 "metadata": {
  "kernelspec": {
   "display_name": "Python 3",
   "language": "python",
   "name": "python3"
  },
  "language_info": {
   "codemirror_mode": {
    "name": "ipython",
    "version": 3
   },
   "file_extension": ".py",
   "mimetype": "text/x-python",
   "name": "python",
   "nbconvert_exporter": "python",
   "pygments_lexer": "ipython3",
   "version": "3.13.5"
  }
 },
 "nbformat": 4,
 "nbformat_minor": 5
}
