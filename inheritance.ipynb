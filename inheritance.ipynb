{
 "cells": [
  {
   "cell_type": "markdown",
   "id": "6195f3c2",
   "metadata": {},
   "source": [
    "1. SINGLE LEVEL INHERITANCE"
   ]
  },
  {
   "cell_type": "markdown",
   "id": "c904a1dc",
   "metadata": {},
   "source": [
    "* Single-Level Inheritance is when a class (child or derived class) inherits the properties and behaviors of exactly one parent (base) class.\n",
    "\n",
    "* It establishes a direct relationship between two classes."
   ]
  },
  {
   "cell_type": "code",
   "execution_count": null,
   "id": "ee57c700",
   "metadata": {},
   "outputs": [
    {
     "name": "stdout",
     "output_type": "stream",
     "text": [
      "The name of the student is Sneha and is studying at VMC GHSS .\n",
      "She achieved a mark of 89 and a grade of A\n",
      "The name of the student is Nabeel and is studying at Anappara HSS .\n",
      "He achieved a mark of 97 and a grade of A+\n",
      "Sneha\n",
      "Nabeel\n",
      "The name of the student is Sneha and She is 16 years old\n",
      "The name of the student is Nabeel and He is 15 years old\n",
      "The name of the student is Ashwin and He is 13 years old\n"
     ]
    },
    {
     "ename": "AttributeError",
     "evalue": "'PersonalDetails' object has no attribute 'display'",
     "output_type": "error",
     "traceback": [
      "\u001b[1;31m---------------------------------------------------------------------------\u001b[0m",
      "\u001b[1;31mAttributeError\u001b[0m                            Traceback (most recent call last)",
      "Cell \u001b[1;32mIn[13], line 33\u001b[0m\n\u001b[0;32m     31\u001b[0m per\u001b[38;5;241m=\u001b[39mPersonalDetails(\u001b[38;5;124m\"\u001b[39m\u001b[38;5;124mAshwin\u001b[39m\u001b[38;5;124m\"\u001b[39m,\u001b[38;5;241m13\u001b[39m,\u001b[38;5;124m'\u001b[39m\u001b[38;5;124mHe\u001b[39m\u001b[38;5;124m'\u001b[39m,\u001b[38;5;241m23456\u001b[39m)   \u001b[38;5;66;03m# PARENT CLASS OBJECT CAN ONLY ACCESS ITS OWN ATTRIBUTES AND METHODS, NO ACCESS TO CHILD CLASS DATA\u001b[39;00m\n\u001b[0;32m     32\u001b[0m per\u001b[38;5;241m.\u001b[39mpersonal_details()\n\u001b[1;32m---> 33\u001b[0m \u001b[43mper\u001b[49m\u001b[38;5;241;43m.\u001b[39;49m\u001b[43mdisplay\u001b[49m()    \u001b[38;5;66;03m# NOT POSSIBLE, WILL CAUSE AN ERROR\u001b[39;00m\n",
      "\u001b[1;31mAttributeError\u001b[0m: 'PersonalDetails' object has no attribute 'display'"
     ]
    }
   ],
   "source": [
    "class PersonalDetails:                                     # PARENT CLASS\n",
    "    def __init__(self,name,age,gender,phone_no):\n",
    "        self.name=name\n",
    "        self.age=age\n",
    "        self.gender=gender\n",
    "        self.ph_no=phone_no\n",
    "    def personal_details(self):\n",
    "        print(f\"The name of the student is {self.name} and {self.gender} is {self.age} years old\")\n",
    "        \n",
    "class AcademicDetails(PersonalDetails):                     # CHILD CLASS\n",
    "    def __init__(self,name,age,gender,ph_no,school_name,id,grade,mark):\n",
    "        self.school_name=school_name\n",
    "        self.id=id\n",
    "        self.grade=grade\n",
    "        self.mark=mark\n",
    "        super().__init__(name,age,gender,ph_no)                  # CALLING THE PARENT CLASS __init__ CONSTRUCTOR, SO NO NEED TO INITIALIZE THOSE ATTRIBUTES AGAIN\n",
    "    def display(self):\n",
    "        print(f\"The name of the student is {self.name} and is studying at {self.school_name} .\\n{self.gender} achieved a mark of {self.mark} and a grade of {self.grade}\")\n",
    "       \n",
    "aca=AcademicDetails(\"Sneha\",16,'She',12345,'VMC GHSS',101,'A',89)          # CHILD CLASS OBJECT- CAN ACCESS PARENT CLASS ATTRIBUTES AND METHODS\n",
    "aca1=AcademicDetails(\"Nabeel\",15,'He',78655,'Anappara HSS',201,'A+',97) \n",
    "aca.display()                           \n",
    "aca1.display()\n",
    "print(aca.name)                    # ACCESSING PARENT CLASS ATTRIBUTE\n",
    "print(aca1.name)                   # ACCESSING PARENT CLASS ATTRIBUTE\n",
    "\n",
    "\n",
    "aca.personal_details()\n",
    "aca1.personal_details()\n",
    "\n",
    "per=PersonalDetails(\"Ashwin\",13,'He',23456)   # PARENT CLASS OBJECT CAN ONLY ACCESS ITS OWN ATTRIBUTES AND METHODS, NO ACCESS TO CHILD CLASS DATA\n",
    "per.personal_details()\n",
    "per.display()    # NOT POSSIBLE, WILL CAUSE AN ERROR"
   ]
  },
  {
   "cell_type": "markdown",
   "id": "500ffffa",
   "metadata": {},
   "source": [
    "2. MULTI-LEVEL INHERITANCE"
   ]
  },
  {
   "cell_type": "markdown",
   "id": "0a36464c",
   "metadata": {},
   "source": [
    "* Multilevel Inheritance occurs when a class is derived from a child class, making a chain of inheritance.\n",
    "\n",
    "* In other words, a class inherits from another derived class, forming multiple levels."
   ]
  },
  {
   "cell_type": "code",
   "execution_count": null,
   "id": "698b1c4c",
   "metadata": {},
   "outputs": [
    {
     "name": "stdout",
     "output_type": "stream",
     "text": [
      "Bike no:1234,Owner:Aswathi, Purchased_Date:2025-05-06\n",
      "black\n",
      "1234\n",
      "Aswathi\n",
      "2025-05-06\n",
      "Red\n",
      "1234\n",
      "Ammu\n",
      "Red\n",
      "1234\n"
     ]
    },
    {
     "ename": "AttributeError",
     "evalue": "'Vehicle' object has no attribute 'owner'",
     "output_type": "error",
     "traceback": [
      "\u001b[1;31m---------------------------------------------------------------------------\u001b[0m",
      "\u001b[1;31mAttributeError\u001b[0m                            Traceback (most recent call last)",
      "Cell \u001b[1;32mIn[25], line 34\u001b[0m\n\u001b[0;32m     32\u001b[0m \u001b[38;5;28mprint\u001b[39m(V\u001b[38;5;241m.\u001b[39mcolor)\n\u001b[0;32m     33\u001b[0m \u001b[38;5;28mprint\u001b[39m(V\u001b[38;5;241m.\u001b[39mvehicle_no)\n\u001b[1;32m---> 34\u001b[0m \u001b[38;5;28mprint\u001b[39m(\u001b[43mV\u001b[49m\u001b[38;5;241;43m.\u001b[39;49m\u001b[43mowner\u001b[49m)\n\u001b[0;32m     35\u001b[0m \u001b[38;5;28mprint\u001b[39m(V\u001b[38;5;241m.\u001b[39mpurchase_date)\n",
      "\u001b[1;31mAttributeError\u001b[0m: 'Vehicle' object has no attribute 'owner'"
     ]
    }
   ],
   "source": [
    "class Vehicle:                                    #PARENT CLASS\n",
    "    def __init__(self,color,vehicle_no):\n",
    "        self.color=color\n",
    "        self.vehicle_no=vehicle_no\n",
    "class Bike(Vehicle):                                # CHILD CLASS OF VEHICLE\n",
    "    def __init__(self,color,vehicle_no,owner):\n",
    "        self.owner=owner\n",
    "        super().__init__(color,vehicle_no)\n",
    "class Splender(Bike):                               # CHILD CLASS OF BIKE\n",
    "    def __init__(self, color, vehicle_no, owner,purchase_date):\n",
    "        super().__init__(color, vehicle_no, owner)\n",
    "        self.purchase_date=purchase_date\n",
    "    def display_details(self):\n",
    "        print(f\"Bike no:{self.vehicle_no},Owner:{self.owner}, Purchased_Date:{self.purchase_date}\")\n",
    "\n",
    "S=Splender(\"black\",1234,\"Aswathi\",\"2025-05-06\")                # FINAL CHILD CLASS OBJECT, CAN ACCESS ALL THE DATA FROM THE PREVIOUS CLASSES\n",
    "S.display_details()\n",
    "print(S.color)\n",
    "print(S.vehicle_no)\n",
    "print(S.owner)\n",
    "print(S.purchase_date)\n",
    "\n",
    "\n",
    "B=Bike(\"Red\",1234,\"Ammu\")                               \n",
    "print(B.color)\n",
    "print(B.vehicle_no)\n",
    "print(B.owner)\n",
    "#  print(B.purchase_date)   # CANNOT ACCESS ATTRIBUTE OF FINAL CLASS \n",
    "\n",
    "\n",
    "V=Vehicle(\"Red\",1234)                               \n",
    "print(V.color)\n",
    "print(V.vehicle_no)\n",
    "# print(V.owner)                 # CANNOT ACCESS CHILD CLASS DATA AND FINAL CLASS DATA\n",
    "# print(V.purchase_date)\n"
   ]
  },
  {
   "cell_type": "markdown",
   "id": "69cfda60",
   "metadata": {},
   "source": [
    "MULTIPLE INHERITANCE"
   ]
  },
  {
   "cell_type": "markdown",
   "id": "40a6cfb7",
   "metadata": {},
   "source": [
    "* Multiple Inheritance occurs when a child class inherits from more than one parent class.\n",
    "\n",
    "* It allows a class to combine the properties and methods of multiple base classes."
   ]
  },
  {
   "cell_type": "code",
   "execution_count": null,
   "id": "4f591163",
   "metadata": {},
   "outputs": [
    {
     "name": "stdout",
     "output_type": "stream",
     "text": [
      "The name is Shahma and She is 29 years old. She is coming from Manjeri. Email ID:shahma@gmail.com\n",
      "\n",
      "Employee_id: 1234 Department name: Data Science Batch Name:A Subject Handling:Statistics\n",
      "\n",
      "The details of the Teacher:\n",
      "\n",
      "Name :Shahma\n",
      "Place:Manjeri\n",
      "Email_ID:shahma@gmail.com\n",
      "Department:Data Science\n"
     ]
    }
   ],
   "source": [
    "class Personal_Details:                                                # PARENT 1 CLASS\n",
    "    def __init__(self,name,age,gender,place,email):\n",
    "        self.name=name\n",
    "        self.age=age\n",
    "        self.gender=gender\n",
    "        self.place=place\n",
    "        self.email=email\n",
    "    def personal_display(self):\n",
    "        print(f\"The name is {self.name} and {self.gender} is {self.age} years old. {self.gender} is coming from {self.place}. Email ID:{self.email}\\n\")\n",
    "        \n",
    "        \n",
    "class EmployeeDetails:                                              # PARENT 2 CLASS\n",
    "    def __init__(self,emp_id,dept_name,batch,subject):\n",
    "        self.emp_id=emp_id\n",
    "        self.dept_name=dept_name\n",
    "        self.batch=batch\n",
    "        self.subject=subject\n",
    "    def emp_display(self):\n",
    "        print(f\"Employee_id: {self.emp_id} Department name: {self.dept_name} Batch Name:{self.batch} Subject Handling:{self.subject}\")\n",
    "        \n",
    "        \n",
    "        \n",
    "class Teacher(Personal_Details,EmployeeDetails):                                  # CHILD CLASS\n",
    "    def __init__(self, name, age, gender, place, email,emp_id,dept_name,batch,subject):\n",
    "        super().__init__(name, age, gender, place, email)\n",
    "        EmployeeDetails.__init__(self,emp_id,dept_name,batch,subject)\n",
    "    def details(self):\n",
    "        print(f\"\\nThe details of the Teacher:\\n\\nName :{self.name}\\nPlace:{self.place}\\nEmail_ID:{self.email}\\nDepartment:{self.dept_name}\")\n",
    "\n",
    "\n",
    "T=Teacher('Shahma',29,'She','Manjeri','shahma@gmail.com',1234,'Data Science','A','Statistics') \n",
    "\n",
    "T.personal_display()\n",
    "\n",
    "T.emp_display()   \n",
    "\n",
    "T.details()\n",
    "      "
   ]
  },
  {
   "cell_type": "markdown",
   "id": "4fdc5d2f",
   "metadata": {},
   "source": [
    "HIERARCHIAL INHERITANCE"
   ]
  },
  {
   "cell_type": "markdown",
   "id": "b23901d7",
   "metadata": {},
   "source": [
    "* Hierarchical Inheritance occurs when multiple child classes inherit from a single parent class.\n",
    "\n",
    "* The parent class’s properties and methods are shared across all child classes."
   ]
  },
  {
   "cell_type": "code",
   "execution_count": 5,
   "id": "c541635d",
   "metadata": {},
   "outputs": [
    {
     "name": "stdout",
     "output_type": "stream",
     "text": [
      "Staff ID:34\n",
      "Staff Name:Rakesh\n",
      "Salary:30000\n",
      "Join date:25-04-09\n",
      "\n",
      "Staff ID:12\n",
      "Staff Name:RENUKA\n",
      "Salary:20000\n",
      "Join date:25-05-12\n",
      "\n"
     ]
    }
   ],
   "source": [
    "class staff:\n",
    "    def __init__(self,staff_id,name,salary):\n",
    "        self.staff_id=staff_id\n",
    "        self.name=name\n",
    "        self.salary=salary\n",
    "    def staff_details(self):\n",
    "        print(f\"Staff ID:{self.staff_id}\\nStaff Name:{self.name}\\nSalary:{self.salary}\\nJoin date:{self.join_date}\\n\")\n",
    "\n",
    "class Librarian(staff):\n",
    "    def __init__(self, staff_id, name, salary,joining_date):\n",
    "        super().__init__(staff_id, name, salary)\n",
    "        self.join_date=joining_date\n",
    "        \n",
    "class Teacher(staff):\n",
    "    def __init__(self, staff_id, name, salary,join_date):\n",
    "        super().__init__(staff_id, name, salary)\n",
    "        self.join_date=join_date\n",
    "\n",
    "L=Librarian(12,'RENUKA',20000,\"25-05-12\")\n",
    "\n",
    "T=Teacher(34,\"Rakesh\",30000,'25-04-09')\n",
    "\n",
    "T.staff_details()\n",
    "L.staff_details()\n",
    "\n"
   ]
  },
  {
   "cell_type": "code",
   "execution_count": null,
   "id": "92b1090e",
   "metadata": {},
   "outputs": [],
   "source": []
  }
 ],
 "metadata": {
  "kernelspec": {
   "display_name": "Python 3",
   "language": "python",
   "name": "python3"
  },
  "language_info": {
   "codemirror_mode": {
    "name": "ipython",
    "version": 3
   },
   "file_extension": ".py",
   "mimetype": "text/x-python",
   "name": "python",
   "nbconvert_exporter": "python",
   "pygments_lexer": "ipython3",
   "version": "3.11.7"
  }
 },
 "nbformat": 4,
 "nbformat_minor": 5
}
