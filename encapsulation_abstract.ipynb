{
 "cells": [
  {
   "cell_type": "markdown",
   "id": "a79f75e2",
   "metadata": {},
   "source": [
    "ENCAPSULATION"
   ]
  },
  {
   "cell_type": "markdown",
   "id": "ab7fbe36",
   "metadata": {},
   "source": [
    "* It means binding data (variables) and methods (functions) together in a single unit (class) and restricting direct access to some data for security."
   ]
  },
  {
   "cell_type": "markdown",
   "id": "8e24b4d2",
   "metadata": {},
   "source": [
    "* In Python, encapsulation is achieved using access specifiers:\n",
    "\n",
    "    1. Public (name) → Accessible anywhere.\n",
    "\n",
    "    2. Protected (_name) → Accessible within the class & subclasses (not strictly enforced).\n",
    "\n",
    "    3. Private (__name) → Accessible only within the class ."
   ]
  },
  {
   "cell_type": "code",
   "execution_count": 17,
   "id": "ad735962",
   "metadata": {},
   "outputs": [],
   "source": [
    "class Student:\n",
    "    def __init__(self,name, grade):\n",
    "        self._name = name        \n",
    "        self.__grade = grade      \n",
    "\n",
    "    def _display(self):          \n",
    "        print(\"Name:\", self._name, \"Grade:\", self.__grade)\n",
    "\n",
    "    def show(self):    # getter methods            \n",
    "        self.__display()          "
   ]
  },
  {
   "cell_type": "code",
   "execution_count": 18,
   "id": "03c894ec",
   "metadata": {},
   "outputs": [],
   "source": [
    "s=Student(\"ASWATHI\",87)"
   ]
  },
  {
   "cell_type": "code",
   "execution_count": 19,
   "id": "e850dec5",
   "metadata": {},
   "outputs": [
    {
     "name": "stdout",
     "output_type": "stream",
     "text": [
      "Name: ASWATHI Grade: 87\n"
     ]
    }
   ],
   "source": [
    "s._display()"
   ]
  },
  {
   "cell_type": "code",
   "execution_count": 16,
   "id": "ce321573",
   "metadata": {},
   "outputs": [
    {
     "data": {
      "text/plain": [
       "'ASWATHI'"
      ]
     },
     "execution_count": 16,
     "metadata": {},
     "output_type": "execute_result"
    }
   ],
   "source": [
    "s._Student__name"
   ]
  },
  {
   "cell_type": "code",
   "execution_count": null,
   "id": "cf3cd74f",
   "metadata": {},
   "outputs": [
    {
     "ename": "AttributeError",
     "evalue": "'Student' object has no attribute '__name'",
     "output_type": "error",
     "traceback": [
      "\u001b[31m---------------------------------------------------------------------------\u001b[39m",
      "\u001b[31mAttributeError\u001b[39m                            Traceback (most recent call last)",
      "\u001b[36mCell\u001b[39m\u001b[36m \u001b[39m\u001b[32mIn[15]\u001b[39m\u001b[32m, line 1\u001b[39m\n\u001b[32m----> \u001b[39m\u001b[32m1\u001b[39m \u001b[43ms\u001b[49m\u001b[43m.\u001b[49m\u001b[43m__name\u001b[49m\n",
      "\u001b[31mAttributeError\u001b[39m: 'Student' object has no attribute '__name'"
     ]
    }
   ],
   "source": [
    "s.__name # CANNOT CALL A PRIVATE VARIABLE\n",
    "s.__grade # cannot call\n",
    "s.__display()  # cannot call a private method"
   ]
  },
  {
   "cell_type": "code",
   "execution_count": 17,
   "id": "8f294119",
   "metadata": {},
   "outputs": [
    {
     "name": "stdout",
     "output_type": "stream",
     "text": [
      "Account Number: 12345\n",
      "Deposited 1000, New Balance: 6000\n",
      "Balance (protected): 6000\n",
      "Balance: 6000\n",
      "Access Denied! Wrong PIN.\n"
     ]
    }
   ],
   "source": [
    "class BankAccount:\n",
    "    def __init__(self, account_number, balance,pin=\"1234\"):\n",
    "        self.account_number = account_number      \n",
    "        self._balance = balance                   \n",
    "        self.__pin = pin                     \n",
    "\n",
    "  \n",
    "    def deposit(self, amount):                       # PUBLIC METHOD\n",
    "        self._balance += amount\n",
    "        print(f\"Deposited {amount}, New Balance: {self._balance}\")\n",
    "\n",
    "    \n",
    "    def get_balance(self, pin):                        #PUBLIC METHOD WITH PRIVATE DATA\n",
    "        if pin == self.__pin:\n",
    "            return f\"Balance: {self._balance}\"\n",
    "        else:\n",
    "            return \"Access Denied! Wrong PIN.\"\n",
    "\n",
    "    def __secure_method(self):                          # PRIVATE METHOD\n",
    "        print(\"This is a private method!\")  \n",
    "\n",
    "\n",
    "acc = BankAccount(12345, 5000)\n",
    "\n",
    "\n",
    "print(\"Account Number:\", acc.account_number)\n",
    "acc.deposit(1000)\n",
    "\n",
    "\n",
    "print(\"Balance (protected):\", acc._balance)\n",
    "\n",
    "\n",
    "print(acc.get_balance(\"1234\"))                  # ACCESSING PRIVATE ATTRIBUTE USING METHOD\n",
    "print(acc.get_balance(\"0000\"))\n"
   ]
  },
  {
   "cell_type": "code",
   "execution_count": 18,
   "id": "48117b59",
   "metadata": {},
   "outputs": [
    {
     "ename": "AttributeError",
     "evalue": "'BankAccount' object has no attribute '__secure_method'",
     "output_type": "error",
     "traceback": [
      "\u001b[31m---------------------------------------------------------------------------\u001b[39m",
      "\u001b[31mAttributeError\u001b[39m                            Traceback (most recent call last)",
      "\u001b[36mCell\u001b[39m\u001b[36m \u001b[39m\u001b[32mIn[18]\u001b[39m\u001b[32m, line 1\u001b[39m\n\u001b[32m----> \u001b[39m\u001b[32m1\u001b[39m \u001b[43macc\u001b[49m\u001b[43m.\u001b[49m\u001b[43m__secure_method\u001b[49m\n",
      "\u001b[31mAttributeError\u001b[39m: 'BankAccount' object has no attribute '__secure_method'"
     ]
    }
   ],
   "source": [
    "acc.__secure_method"
   ]
  },
  {
   "cell_type": "code",
   "execution_count": null,
   "id": "7597e340",
   "metadata": {},
   "outputs": [
    {
     "name": "stdout",
     "output_type": "stream",
     "text": [
      "Name: Achu\n",
      "Age (Protected): 27\n",
      "Grade (via method): 85\n",
      "Updated Grade: 95\n"
     ]
    }
   ],
   "source": [
    "class Student:\n",
    "    def __init__(self, name, age, grade):\n",
    "        self.name = name          \n",
    "        self._age = age           \n",
    "        self.__grade = grade      \n",
    "\n",
    "    def get_grade(self):            # GETTER METHOD\n",
    "        return self.__grade\n",
    "\n",
    "    def set_grade(self, grade):     # SETTER METHOD\n",
    "        if 0 <= grade <= 100:\n",
    "            self.__grade = grade\n",
    "        else:\n",
    "            print(\"Invalid Grade!\")\n",
    "\n",
    "\n",
    "s = Student(\"Achu\", 27, 85)\n",
    "\n",
    "print(\"Name:\", s.name)\n",
    "\n",
    "print(\"Age (Protected):\", s._age)\n",
    "\n",
    "print(\"Grade (via method):\", s.get_grade())\n",
    "\n",
    "\n",
    "s.set_grade(95)\n",
    "print(\"Updated Grade:\", s.get_grade())\n"
   ]
  },
  {
   "cell_type": "code",
   "execution_count": null,
   "id": "e4f441fe",
   "metadata": {},
   "outputs": [],
   "source": []
  },
  {
   "cell_type": "markdown",
   "id": "ab515fe7",
   "metadata": {},
   "source": [
    "DATA ABSTRACTION"
   ]
  },
  {
   "cell_type": "markdown",
   "id": "1683282a",
   "metadata": {},
   "source": [
    "* Abstraction is the process of hiding implementation details and showing only the essential features to the user."
   ]
  },
  {
   "cell_type": "markdown",
   "id": "e0f1195c",
   "metadata": {},
   "source": [
    "* In Python, abstraction is implemented using the abc (Abstract Base Class) module."
   ]
  },
  {
   "cell_type": "markdown",
   "id": "9a0461c3",
   "metadata": {},
   "source": [
    "* An abstract class contains one or more abstract methods (methods with only a declaration, no body)."
   ]
  },
  {
   "cell_type": "markdown",
   "id": "5e63179e",
   "metadata": {},
   "source": [
    "KEY RULES OF ABSTRACTION IN PYTHON"
   ]
  },
  {
   "cell_type": "markdown",
   "id": "1b5c1bae",
   "metadata": {},
   "source": [
    "* Abstract classes cannot create objects."
   ]
  },
  {
   "cell_type": "markdown",
   "id": "39905df2",
   "metadata": {},
   "source": [
    "* Any class with abstract methods must be subclassed."
   ]
  },
  {
   "cell_type": "markdown",
   "id": "e15e0bae",
   "metadata": {},
   "source": [
    "* All abstract methods must be implemented in child classes."
   ]
  },
  {
   "cell_type": "markdown",
   "id": "a6d07d8c",
   "metadata": {},
   "source": [
    "* Abstract classes can also have concrete (normal) methods."
   ]
  },
  {
   "cell_type": "code",
   "execution_count": null,
   "id": "b7b74af2",
   "metadata": {},
   "outputs": [],
   "source": []
  },
  {
   "cell_type": "code",
   "execution_count": 24,
   "id": "c482c383",
   "metadata": {},
   "outputs": [
    {
     "name": "stdout",
     "output_type": "stream",
     "text": [
      "Rectangle Area: 50\n",
      "Rectangle Perimeter: 30\n",
      "Circle Area: 153.86\n",
      "Circle Perimeter: 43.96\n"
     ]
    }
   ],
   "source": [
    "from abc import ABC, abstractmethod\n",
    "\n",
    "class Shape(ABC):\n",
    "    @abstractmethod\n",
    "    def area(self):\n",
    "        pass   \n",
    "    \n",
    "    @abstractmethod\n",
    "    def perimeter(self):\n",
    "        pass\n",
    "    def display(self):\n",
    "        print(\"hello\")\n",
    "\n",
    "\n",
    "class Rectangle(Shape):\n",
    "    def __init__(self, length, width):\n",
    "        self.length = length\n",
    "        self.width = width\n",
    "    \n",
    "    def area(self):\n",
    "        return self.length * self.width\n",
    "    \n",
    "    def perimeter(self):\n",
    "        return 2 * (self.length + self.width)\n",
    "    def dis(self):\n",
    "        print(\"hellooooo hiii\")\n",
    "\n",
    "\n",
    "class Circle(Shape):\n",
    "    def __init__(self, radius):\n",
    "        self.radius = radius\n",
    "    \n",
    "    def area(self):\n",
    "        return 3.14 * self.radius ** 2\n",
    "    \n",
    "    def perimeter(self):\n",
    "        return 2 * 3.14 * self.radius\n",
    "\n",
    "\n",
    "r = Rectangle(10, 5)\n",
    "print(\"Rectangle Area:\", r.area())\n",
    "print(\"Rectangle Perimeter:\", r.perimeter())\n",
    "\n",
    "c = Circle(7)\n",
    "print(\"Circle Area:\", c.area())\n",
    "print(\"Circle Perimeter:\", c.perimeter())\n"
   ]
  },
  {
   "cell_type": "code",
   "execution_count": 25,
   "id": "fab9a1ce",
   "metadata": {},
   "outputs": [
    {
     "name": "stdout",
     "output_type": "stream",
     "text": [
      "hellooooo hiii\n"
     ]
    }
   ],
   "source": [
    "r.dis()"
   ]
  },
  {
   "cell_type": "code",
   "execution_count": null,
   "id": "7b536e89",
   "metadata": {},
   "outputs": [
    {
     "name": "stdout",
     "output_type": "stream",
     "text": [
      "Brand: Toyota\n",
      "Toyota Car Engine Started!\n",
      "Toyota Car Engine Stopped!\n",
      "Brand: Yamaha\n",
      "Yamaha Bike Engine Started!\n",
      "Yamaha Bike Engine Stopped!\n"
     ]
    }
   ],
   "source": [
    "from abc import ABC, abstractmethod\n",
    "\n",
    "\n",
    "class Vehicle(ABC):\n",
    "    def __init__(self, brand):\n",
    "        self.brand = brand\n",
    "\n",
    "   \n",
    "    def show_brand(self):                          \n",
    "        print(f\"Brand: {self.brand}\")\n",
    "\n",
    "   \n",
    "    @abstractmethod\n",
    "    def start_engine(self):\n",
    "        pass\n",
    "\n",
    "    @abstractmethod\n",
    "    def stop_engine(self):\n",
    "        pass\n",
    "\n",
    "\n",
    "\n",
    "class Car(Vehicle):\n",
    "    def start_engine(self):\n",
    "        print(f\"{self.brand} Car Engine Started!\")\n",
    "\n",
    "    def stop_engine(self):\n",
    "        print(f\"{self.brand} Car Engine Stopped!\")\n",
    "\n",
    "\n",
    "\n",
    "class Bike(Vehicle):\n",
    "    def start_engine(self):\n",
    "        print(f\"{self.brand} Bike Engine Started!\")\n",
    "\n",
    "    def stop_engine(self):\n",
    "        print(f\"{self.brand} Bike Engine Stopped!\")\n",
    "\n",
    "\n",
    "\n",
    "c = Car(\"Toyota\")\n",
    "c.show_brand()        \n",
    "c.start_engine()      \n",
    "c.stop_engine()\n",
    "\n",
    "b = Bike(\"Yamaha\")\n",
    "b.show_brand()\n",
    "b.start_engine()\n",
    "b.stop_engine()\n"
   ]
  },
  {
   "cell_type": "code",
   "execution_count": null,
   "id": "e496473e",
   "metadata": {},
   "outputs": [
    {
     "ename": "TypeError",
     "evalue": "Can't instantiate abstract class Shape without an implementation for abstract methods 'area', 'perimeter'",
     "output_type": "error",
     "traceback": [
      "\u001b[31m---------------------------------------------------------------------------\u001b[39m",
      "\u001b[31mTypeError\u001b[39m                                 Traceback (most recent call last)",
      "\u001b[36mCell\u001b[39m\u001b[36m \u001b[39m\u001b[32mIn[21]\u001b[39m\u001b[32m, line 1\u001b[39m\n\u001b[32m----> \u001b[39m\u001b[32m1\u001b[39m s=\u001b[43mShape\u001b[49m\u001b[43m(\u001b[49m\u001b[43m)\u001b[49m\n",
      "\u001b[31mTypeError\u001b[39m: Can't instantiate abstract class Shape without an implementation for abstract methods 'area', 'perimeter'"
     ]
    }
   ],
   "source": []
  },
  {
   "cell_type": "code",
   "execution_count": null,
   "id": "de11ced4",
   "metadata": {},
   "outputs": [],
   "source": []
  }
 ],
 "metadata": {
  "kernelspec": {
   "display_name": "Python 3",
   "language": "python",
   "name": "python3"
  },
  "language_info": {
   "codemirror_mode": {
    "name": "ipython",
    "version": 3
   },
   "file_extension": ".py",
   "mimetype": "text/x-python",
   "name": "python",
   "nbconvert_exporter": "python",
   "pygments_lexer": "ipython3",
   "version": "3.13.5"
  }
 },
 "nbformat": 4,
 "nbformat_minor": 5
}
